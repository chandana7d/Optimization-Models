{
 "cells": [
  {
   "cell_type": "markdown",
   "metadata": {},
   "source": [
    "# Simple scenario based LP\n",
    "The goal here is to solve a simple scenarios based asset allocation problem. We have m = 3 scenarios and n = 4 assets. The details are as follows:\n",
    "+ Cost of assets: $c = [2.0, 3.0, 1.0, 5.0]$\n",
    "Payoffs of the n assets and the requirements in the m scenarios\n",
    "+ Scenario 1: Payoff $S_1 = [0.2,  1. ,  0.1,  0.5]$ Requirement $r_1 = 10.0$\n",
    "+ Scenario 2: Payoff $S_2 = [0.5,  1.2,  1. ,  0.8]$ Requirement $r_2 = 20.0$\n",
    "+ Scenario 3: Payoff $S_3 = [1. ,  0.2,  1.3,  1.2]$ Requirement $r_3 = 15.0$\n",
    "\n",
    "Linear programming formulation: $\\phi$ = number of shares in assets\n",
    "\n",
    "$$\n",
    "\\begin{array}{rl}\n",
    "\\mbox{min} & \\sum_{i=1}^n c_i \\phi_i\\\\\n",
    "\\mbox{subject to} & \\sum_{i = 1}^n S_{ji}\\phi_i >= r_j, \\quad j = 1, \\ldots, m\n",
    "\\end{array}\n",
    "$$"
   ]
  },
  {
   "cell_type": "code",
   "execution_count": 1,
   "metadata": {},
   "outputs": [],
   "source": [
    "import numpy as np\n",
    "from scipy.optimize import linprog"
   ]
  },
  {
   "cell_type": "code",
   "execution_count": 2,
   "metadata": {},
   "outputs": [],
   "source": [
    "cost = np.asarray([2.0,3.0,1.0,5.0])\n",
    "S =  np.asarray([[0.2,0.5,1.0],\n",
    "      [1.0,1.2,0.2],\n",
    "      [0.1,1.0,1.3],\n",
    "      [0.5,0.8,1.2]])\n",
    "S = S.T\n",
    "r = np.asarray([10.0,20.0,15.0])"
   ]
  },
  {
   "cell_type": "markdown",
   "metadata": {},
   "source": [
    "**linprog syntax**\n",
    "\n",
    "Minimize:     c^T * x\n",
    "\n",
    "Subject to:   A_ub * x <= b_ub\n",
    "              A_eq * x == b_eq\n",
    "\n",
    "res = linprog(c, A_ub=None, b_ub=None, A_eq=None, b_eq=None, bounds=None, method='simplex', callback=None, options=None)\n",
    "\n",
    "The bounds for each independent variable in the solution, which can take one of three forms:\n",
    "+ None : **The default bounds, all variables are non-negative.** \n",
    "+ (lb, ub) : If a 2-element sequence is provided, the same lower bound (lb) and upper bound (ub) will be applied to all variables.\n",
    "+ [(lb_0, ub_0), (lb_1, ub_1), …] : If an n x 2 sequence is provided, each variable x_i will be bounded by lb[i] and ub[i].\n",
    "+ Infinite bounds are specified using -np.inf (negative) or np.inf (positive).\n"
   ]
  },
  {
   "cell_type": "code",
   "execution_count": 3,
   "metadata": {},
   "outputs": [],
   "source": [
    "res = linprog(cost, -S, -r)"
   ]
  },
  {
   "cell_type": "code",
   "execution_count": 4,
   "metadata": {},
   "outputs": [
    {
     "name": "stdout",
     "output_type": "stream",
     "text": [
      "        message: Optimization terminated successfully. (HiGHS Status 7: Optimal)\n",
      "        success: True\n",
      "         status: 0\n",
      "            fun: 37.10937500000001\n",
      "              x: [ 0.000e+00  8.984e+00  1.016e+01  0.000e+00]\n",
      "            nit: 2\n",
      "          lower:  residual: [ 0.000e+00  8.984e+00  1.016e+01  0.000e+00]\n",
      "                 marginals: [ 8.750e-01  0.000e+00  0.000e+00  2.898e+00]\n",
      "          upper:  residual: [       inf        inf        inf        inf]\n",
      "                 marginals: [ 0.000e+00  0.000e+00  0.000e+00  0.000e+00]\n",
      "          eqlin:  residual: []\n",
      "                 marginals: []\n",
      "        ineqlin:  residual: [ 0.000e+00  9.375e-01  0.000e+00]\n",
      "                 marginals: [-2.891e+00 -0.000e+00 -5.469e-01]\n",
      " mip_node_count: 0\n",
      " mip_dual_bound: 0.0\n",
      "        mip_gap: 0.0\n"
     ]
    }
   ],
   "source": [
    "print(res)"
   ]
  },
  {
   "cell_type": "code",
   "execution_count": null,
   "metadata": {},
   "outputs": [],
   "source": []
  }
 ],
 "metadata": {
  "kernelspec": {
   "display_name": "Python 3 (ipykernel)",
   "language": "python",
   "name": "python3"
  },
  "language_info": {
   "codemirror_mode": {
    "name": "ipython",
    "version": 3
   },
   "file_extension": ".py",
   "mimetype": "text/x-python",
   "name": "python",
   "nbconvert_exporter": "python",
   "pygments_lexer": "ipython3",
   "version": "3.12.4"
  }
 },
 "nbformat": 4,
 "nbformat_minor": 4
}
